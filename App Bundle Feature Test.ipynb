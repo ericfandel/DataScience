{
 "cells": [
  {
   "cell_type": "code",
   "execution_count": 1,
   "metadata": {
    "collapsed": true
   },
   "outputs": [],
   "source": [
    "from numpy import *\n",
    "import numpy\n",
    "import scipy\n",
    "import scipy.stats as stats\n",
    "import matplotlib.pyplot as plt\n",
    "import pandas\n",
    "import datetime\n",
    "import seaborn\n",
    "\n",
    "# machine learning\n",
    "from sklearn.linear_model import LogisticRegression\n",
    "from sklearn.svm import SVC, LinearSVC\n",
    "from sklearn.ensemble import RandomForestClassifier\n",
    "from sklearn.ensemble import ExtraTreesClassifier\n",
    "from sklearn.neighbors import KNeighborsClassifier\n",
    "from sklearn.naive_bayes import GaussianNB\n",
    "from sklearn.linear_model import Perceptron\n",
    "from sklearn.linear_model import SGDClassifier\n",
    "from sklearn.tree import DecisionTreeClassifier\n",
    "import sklearn\n",
    "from sklearn import metrics\n",
    "\n",
    "import sys\n",
    "sys.path.append(\"/Users/efandel/Desktop/iPython Tools\")\n",
    "from rtbpythonutils import *\n",
    "%matplotlib inline"
   ]
  },
  {
   "cell_type": "code",
   "execution_count": 40,
   "metadata": {
    "collapsed": false
   },
   "outputs": [],
   "source": [
    "feature_columns = ['bids.app_bundle','bids.app_aid','bids.fiksu_app_id','bids.ad_type','bids.connection_speed']\n",
    "\n",
    "negative_ratio = 1.0\n",
    "\n",
    "positives = redshift_compute('''\n",
    "select 1 as label,\n",
    "  %s\n",
    "from bids_partitions.p20170719 bids\n",
    "inner join impressions_partitions.p20170719 as imps on imps.adnetwork_request_id = bids.adnetwork_request_id\n",
    "inner join click_ios_partitions.p20170719 as clicks on clicks.adnetwork_request_id = imps.adnetwork_request_id\n",
    "inner join conversions_partitions.p20170719 as convs on convs.adnetwork_request_id = clicks.adnetwork_request_id\n",
    "\n",
    "where bids.fiksu_app_id != 0\n",
    "order by random()\n",
    "limit 100000\n",
    "\n",
    "'''%(', '.join(feature_columns)))\n",
    "\n",
    "negatives = redshift_compute('''\n",
    "select 0 as label,\n",
    "  %s\n",
    "from bids_partitions.p20170719 bids\n",
    "inner join impressions_partitions.p20170719 as imps on imps.adnetwork_request_id = bids.adnetwork_request_id\n",
    "inner join click_ios_partitions.p20170719 as clicks on clicks.adnetwork_request_id = imps.adnetwork_request_id\n",
    "left outer join conversions_partitions.p20170719 as convs on convs.adnetwork_request_id = clicks.adnetwork_request_id\n",
    "\n",
    "where bids.fiksu_app_id != 0\n",
    "and convs.adnetwork_request_id is null\n",
    "order by random()\n",
    "limit %s\n",
    "'''%(', '.join(feature_columns), int(len(positives)*negative_ratio)))\n",
    "all_data = pandas.concat([positives, negatives])\n",
    "\n",
    "def random_split(X,Y, frac=0.8):\n",
    "    msk = numpy.random.rand(len(X)) < frac\n",
    "    return X[msk], Y[msk], X[~msk], Y[~msk]"
   ]
  },
  {
   "cell_type": "code",
   "execution_count": 41,
   "metadata": {
    "collapsed": false
   },
   "outputs": [
    {
     "data": {
      "text/plain": [
       "array([1, 0])"
      ]
     },
     "execution_count": 41,
     "metadata": {},
     "output_type": "execute_result"
    }
   ],
   "source": [
    "all_data.label.unique()"
   ]
  },
  {
   "cell_type": "code",
   "execution_count": 35,
   "metadata": {
    "collapsed": false
   },
   "outputs": [
    {
     "data": {
      "text/plain": [
       "2342"
      ]
     },
     "execution_count": 35,
     "metadata": {},
     "output_type": "execute_result"
    }
   ],
   "source": [
    "len(all_data)"
   ]
  },
  {
   "cell_type": "code",
   "execution_count": 48,
   "metadata": {
    "collapsed": false
   },
   "outputs": [],
   "source": [
    "columns = ['app_bundle']\n",
    "X = pandas.get_dummies(all_data[columns])\n",
    "Y = all_data['label']\n",
    "\n",
    "X_train, Y_train, X_test, Y_test = random_split(X, Y)"
   ]
  },
  {
   "cell_type": "code",
   "execution_count": 49,
   "metadata": {
    "collapsed": false
   },
   "outputs": [
    {
     "data": {
      "text/plain": [
       "423"
      ]
     },
     "execution_count": 49,
     "metadata": {},
     "output_type": "execute_result"
    }
   ],
   "source": [
    "len(Y_test)"
   ]
  },
  {
   "cell_type": "code",
   "execution_count": 50,
   "metadata": {
    "collapsed": false
   },
   "outputs": [
    {
     "name": "stdout",
     "output_type": "stream",
     "text": [
      "Logistic Regression\n",
      "('Training Accuracy', 70.43)\n",
      "('Test Accuracy', 65.96)\n",
      "('Training Loss', 0.57627621798946949)\n",
      "('Test Loss', 0.61414066840372106)\n",
      "('Mean Loss', 0.69414316256030739)\n"
     ]
    },
    {
     "data": {
      "image/png": "[encoded data removed]",
      "text/plain": [
       "<matplotlib.figure.Figure at 0x10c61cd50>"
      ]
     },
     "metadata": {},
     "output_type": "display_data"
    }
   ],
   "source": [
    "method = \"Logistic Regression\"\n",
    "\n",
    "\n",
    "model = LogisticRegression()\n",
    "model.fit(X_train, Y_train)\n",
    "\n",
    "train_acc = round(model.score(X_train, Y_train) * 100, 2)\n",
    "test_acc = round(model.score(X_test, Y_test) * 100, 2)\n",
    "\n",
    "train_loss = sklearn.metrics.log_loss(Y_train, model.predict_proba(X_train)[:,1])\n",
    "test_loss = sklearn.metrics.log_loss(Y_test, model.predict_proba(X_test)[:,1])\n",
    "\n",
    "mean_loss = sklearn.metrics.log_loss(Y_test, ones(len(Y_test)) * mean(Y_train))\n",
    "\n",
    "\n",
    "print(method)\n",
    "print(\"Training Accuracy\", train_acc)\n",
    "print(\"Test Accuracy\", test_acc)\n",
    "print(\"Training Loss\", train_loss)\n",
    "print(\"Test Loss\", test_loss)\n",
    "print(\"Mean Loss\", mean_loss)\n",
    "\n",
    "probs = model.predict_proba(X_test)\n",
    "preds = probs[:,1]\n",
    "fpr, tpr, threshold = metrics.roc_curve(Y_test, preds)\n",
    "roc_auc = metrics.auc(fpr, tpr)\n",
    "\n",
    "plt.title('Receiver Operating Characteristic')\n",
    "plt.plot(fpr, tpr, 'b', label = 'AUC = %0.2f' % roc_auc)\n",
    "plt.legend(loc = 'lower right')\n",
    "plt.plot([0, 1], [0, 1],'r--')\n",
    "plt.xlim([0, 1])\n",
    "plt.ylim([0, 1])\n",
    "plt.ylabel('True Positive Rate')\n",
    "plt.xlabel('False Positive Rate')\n",
    "plt.show()"
   ]
  },
  {
   "cell_type": "markdown",
   "metadata": {},
   "source": [
    "### What happens when we use app_aid instead of app_bundle?"
   ]
  },
  {
   "cell_type": "code",
   "execution_count": 46,
   "metadata": {
    "collapsed": true
   },
   "outputs": [],
   "source": [
    "columns = ['app_aid']\n",
    "X = pandas.get_dummies(all_data[columns])\n",
    "Y = all_data['label']\n",
    "\n",
    "X_train, Y_train, X_test, Y_test = random_split(X, Y)"
   ]
  },
  {
   "cell_type": "code",
   "execution_count": 47,
   "metadata": {
    "collapsed": false
   },
   "outputs": [
    {
     "name": "stdout",
     "output_type": "stream",
     "text": [
      "Logistic Regression\n",
      "('Training Accuracy', 71.5)\n",
      "('Test Accuracy', 67.62)\n",
      "('Training Loss', 0.56529804611316314)\n",
      "('Test Loss', 0.61893634886841897)\n",
      "('Mean Loss', 0.69319215312208382)\n"
     ]
    },
    {
     "data": {
      "image/png": "[encoded data removed]",
      "text/plain": [
       "<matplotlib.figure.Figure at 0x10c719750>"
      ]
     },
     "metadata": {},
     "output_type": "display_data"
    }
   ],
   "source": [
    "method = \"Logistic Regression\"\n",
    "\n",
    "\n",
    "model = LogisticRegression()\n",
    "model.fit(X_train, Y_train)\n",
    "\n",
    "train_acc = round(model.score(X_train, Y_train) * 100, 2)\n",
    "test_acc = round(model.score(X_test, Y_test) * 100, 2)\n",
    "\n",
    "train_loss = sklearn.metrics.log_loss(Y_train, model.predict_proba(X_train)[:,1])\n",
    "test_loss = sklearn.metrics.log_loss(Y_test, model.predict_proba(X_test)[:,1])\n",
    "\n",
    "mean_loss = sklearn.metrics.log_loss(Y_test, ones(len(Y_test)) * mean(Y_train))\n",
    "\n",
    "\n",
    "print(method)\n",
    "print(\"Training Accuracy\", train_acc)\n",
    "print(\"Test Accuracy\", test_acc)\n",
    "print(\"Training Loss\", train_loss)\n",
    "print(\"Test Loss\", test_loss)\n",
    "print(\"Mean Loss\", mean_loss)\n",
    "\n",
    "probs = model.predict_proba(X_test)\n",
    "preds = probs[:,1]\n",
    "fpr, tpr, threshold = metrics.roc_curve(Y_test, preds)\n",
    "roc_auc = metrics.auc(fpr, tpr)\n",
    "\n",
    "plt.title('Receiver Operating Characteristic')\n",
    "plt.plot(fpr, tpr, 'b', label = 'AUC = %0.2f' % roc_auc)\n",
    "plt.legend(loc = 'lower right')\n",
    "plt.plot([0, 1], [0, 1],'r--')\n",
    "plt.xlim([0, 1])\n",
    "plt.ylim([0, 1])\n",
    "plt.ylabel('True Positive Rate')\n",
    "plt.xlabel('False Positive Rate')\n",
    "plt.show()"
   ]
  },
  {
   "cell_type": "code",
   "execution_count": null,
   "metadata": {
    "collapsed": true
   },
   "outputs": [],
   "source": []
  }
 ],
 "metadata": {
  "kernelspec": {
   "display_name": "Python 2",
   "language": "python",
   "name": "python2"
  },
  "language_info": {
   "codemirror_mode": {
    "name": "ipython",
    "version": 2
   },
   "file_extension": ".py",
   "mimetype": "text/x-python",
   "name": "python",
   "nbconvert_exporter": "python",
   "pygments_lexer": "ipython2",
   "version": "2.7.13"
  }
 },
 "nbformat": 4,
 "nbformat_minor": 0
}
