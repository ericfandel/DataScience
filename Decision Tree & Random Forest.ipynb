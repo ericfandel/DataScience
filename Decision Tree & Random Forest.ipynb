{
 "cells": [
  {
   "cell_type": "code",
   "execution_count": 26,
   "metadata": {
    "collapsed": true
   },
   "outputs": [],
   "source": [
    "import matplotlib.pyplot as plt\n",
    "import seaborn as sns\n",
    "import statsmodels.api as sm\n",
    "import pandas as pd\n",
    "import numpy as np\n",
    "import json\n",
    "import sys\n",
    "from sklearn.tree import DecisionTreeClassifier\n",
    "from sklearn.metrics import roc_auc_score\n",
    "from sklearn.cross_validation import cross_val_score, ShuffleSplit\n",
    "from sklearn import metrics\n",
    "\n",
    "\n",
    "sys.path.append(\"/Users/efandel/Desktop/iPython Tools\")\n",
    "from rtbpythonutils import *\n",
    "%matplotlib inline"
   ]
  },
  {
   "cell_type": "code",
   "execution_count": 11,
   "metadata": {
    "collapsed": false
   },
   "outputs": [],
   "source": [
    "feature_columns = ['app_site_id','fiksu_app_id','ad_type', 'ad_size', 'ad_network',\n",
    "                   'device_country', 'fiksu_device', 'connection_speed']\n",
    "negative_ratio = 1.0\n",
    "\n",
    "positives = redshift_compute('''\n",
    "select case when conversions > 0 then 1 else 0 end as label,\n",
    "  %s\n",
    "from research_prod.bid_summary_4wk\n",
    "where fiksu_app_id != '0'\n",
    "  and used_target = 'cost_per_download'\n",
    "  and conversions > 0\n",
    "order by random()\n",
    "limit 100000\n",
    "'''%(', '.join(feature_columns)))\n",
    "\n",
    "negatives = redshift_compute('''\n",
    "select case when conversions > 0 then 1 else 0 end as label,\n",
    "  %s\n",
    "from research_prod.bid_summary_4wk\n",
    "where fiksu_app_id != '0'\n",
    "  and used_target = 'cost_per_download'\n",
    "  and conversions = 0\n",
    "  and impressions > 0\n",
    "order by random()\n",
    "limit %s\n",
    "'''%(', '.join(feature_columns), int(len(positives)*negative_ratio)))\n",
    "data = pd.concat([positives, negatives])"
   ]
  },
  {
   "cell_type": "code",
   "execution_count": 12,
   "metadata": {
    "collapsed": false
   },
   "outputs": [
    {
     "data": {
      "text/html": [
       "<div>\n",
       "<table border=\"1\" class=\"dataframe\">\n",
       "  <thead>\n",
       "    <tr style=\"text-align: right;\">\n",
       "      <th></th>\n",
       "      <th>label</th>\n",
       "      <th>app_site_id</th>\n",
       "      <th>fiksu_app_id</th>\n",
       "      <th>ad_type</th>\n",
       "      <th>ad_size</th>\n",
       "      <th>ad_network</th>\n",
       "      <th>device_country</th>\n",
       "      <th>fiksu_device</th>\n",
       "      <th>connection_speed</th>\n",
       "    </tr>\n",
       "  </thead>\n",
       "  <tbody>\n",
       "    <tr>\n",
       "      <th>0</th>\n",
       "      <td>1</td>\n",
       "      <td>74837293ea4ba4593255307a1faeeb16</td>\n",
       "      <td>12710</td>\n",
       "      <td>LiveRailVideoAd</td>\n",
       "      <td>480x320</td>\n",
       "      <td>omax</td>\n",
       "      <td>USA</td>\n",
       "      <td>iphone</td>\n",
       "      <td>Cellular</td>\n",
       "    </tr>\n",
       "    <tr>\n",
       "      <th>1</th>\n",
       "      <td>1</td>\n",
       "      <td>eac02eb80a29d55fc5d40e60d3cdc3e7</td>\n",
       "      <td>12710</td>\n",
       "      <td>LiveRailVideoAd</td>\n",
       "      <td>480x320</td>\n",
       "      <td>omax</td>\n",
       "      <td>DNK</td>\n",
       "      <td>ipad</td>\n",
       "      <td>Cable/DSL</td>\n",
       "    </tr>\n",
       "    <tr>\n",
       "      <th>2</th>\n",
       "      <td>1</td>\n",
       "      <td>de2d3e6225ba4a48838f3cf9b8752a20</td>\n",
       "      <td>12711</td>\n",
       "      <td>LiveRailVideoAd</td>\n",
       "      <td>320x480</td>\n",
       "      <td>mopub</td>\n",
       "      <td>USA</td>\n",
       "      <td>generic android device</td>\n",
       "      <td>Cable/DSL</td>\n",
       "    </tr>\n",
       "    <tr>\n",
       "      <th>3</th>\n",
       "      <td>1</td>\n",
       "      <td>924cb2fc7847487793b92da332f6624e</td>\n",
       "      <td>12095</td>\n",
       "      <td>LiveRailVideoAd</td>\n",
       "      <td>480x320</td>\n",
       "      <td>mopub</td>\n",
       "      <td>USA</td>\n",
       "      <td>iphone</td>\n",
       "      <td>Cable/DSL</td>\n",
       "    </tr>\n",
       "    <tr>\n",
       "      <th>4</th>\n",
       "      <td>1</td>\n",
       "      <td>com.solitairegame.basic2</td>\n",
       "      <td>12711</td>\n",
       "      <td>StandardAd</td>\n",
       "      <td>1024x768</td>\n",
       "      <td>adx</td>\n",
       "      <td>USA</td>\n",
       "      <td>galaxy tab a</td>\n",
       "      <td>Cable/DSL</td>\n",
       "    </tr>\n",
       "  </tbody>\n",
       "</table>\n",
       "</div>"
      ],
      "text/plain": [
       "   label                       app_site_id fiksu_app_id          ad_type  \\\n",
       "0      1  74837293ea4ba4593255307a1faeeb16        12710  LiveRailVideoAd   \n",
       "1      1  eac02eb80a29d55fc5d40e60d3cdc3e7        12710  LiveRailVideoAd   \n",
       "2      1  de2d3e6225ba4a48838f3cf9b8752a20        12711  LiveRailVideoAd   \n",
       "3      1  924cb2fc7847487793b92da332f6624e        12095  LiveRailVideoAd   \n",
       "4      1          com.solitairegame.basic2        12711       StandardAd   \n",
       "\n",
       "    ad_size ad_network device_country            fiksu_device connection_speed  \n",
       "0   480x320       omax            USA                  iphone         Cellular  \n",
       "1   480x320       omax            DNK                    ipad        Cable/DSL  \n",
       "2   320x480      mopub            USA  generic android device        Cable/DSL  \n",
       "3   480x320      mopub            USA                  iphone        Cable/DSL  \n",
       "4  1024x768        adx            USA            galaxy tab a        Cable/DSL  "
      ]
     },
     "execution_count": 12,
     "metadata": {},
     "output_type": "execute_result"
    }
   ],
   "source": [
    "data.head()"
   ]
  },
  {
   "cell_type": "code",
   "execution_count": 19,
   "metadata": {
    "collapsed": false
   },
   "outputs": [],
   "source": [
    "columns = ['app_site_id','fiksu_app_id','ad_type', 'ad_size', 'ad_network',\n",
    "                   'device_country', 'fiksu_device', 'connection_speed']\n",
    "\n",
    "\n",
    "x = pd.get_dummies(data[columns])\n",
    "y = data['label']"
   ]
  },
  {
   "cell_type": "code",
   "execution_count": 20,
   "metadata": {
    "collapsed": false
   },
   "outputs": [
    {
     "name": "stdout",
     "output_type": "stream",
     "text": [
      "CV AUC [ 0.66622705  0.66222049  0.65585264  0.66073171  0.65640413], Average AUC 0.66028720287\n",
      "CV Accuracy [ 0.63282805  0.62746899  0.62639718  0.62869392  0.6227224 ], Average Accuracy 0.627622109937\n"
     ]
    }
   ],
   "source": [
    "scores = cross_val_score(DecisionTreeClassifier(), x, y, scoring='roc_auc', cv=5)\n",
    "print('CV AUC {}, Average AUC {}'.format(scores, scores.mean()))\n",
    "\n",
    "scores = cross_val_score(DecisionTreeClassifier(), x, y, scoring='accuracy', cv=5)\n",
    "print('CV Accuracy {}, Average Accuracy {}'.format(scores, scores.mean()))"
   ]
  },
  {
   "cell_type": "code",
   "execution_count": 27,
   "metadata": {
    "collapsed": false
   },
   "outputs": [
    {
     "data": {
      "image/png": "[encoded data removed]",
      "text/plain": [
       "<matplotlib.figure.Figure at 0x11b91fdd0>"
      ]
     },
     "metadata": {},
     "output_type": "display_data"
    }
   ],
   "source": [
    "# calculate the fpr and tpr for all thresholds of the classification\n",
    "model = DecisionTreeClassifier()\n",
    "model.fit(x,y)\n",
    "probs = model.predict_proba(x)\n",
    "preds = probs[:,1]\n",
    "fpr, tpr, threshold = metrics.roc_curve(y, preds)\n",
    "roc_auc = metrics.auc(fpr, tpr)\n",
    "\n",
    "plt.title('Receiver Operating Characteristic')\n",
    "plt.plot(fpr, tpr, 'b', label = 'AUC = %0.2f' % roc_auc)\n",
    "plt.legend(loc = 'lower right')\n",
    "plt.plot([0, 1], [0, 1],'r--')\n",
    "plt.xlim([0, 1])\n",
    "plt.ylim([0, 1])\n",
    "plt.ylabel('True Positive Rate')\n",
    "plt.xlabel('False Positive Rate')\n",
    "plt.show()"
   ]
  },
  {
   "cell_type": "code",
   "execution_count": 30,
   "metadata": {
    "collapsed": false
   },
   "outputs": [
    {
     "data": {
      "image/png": "[encoded data removed]",
      "text/plain": [
       "<matplotlib.figure.Figure at 0x11b709bd0>"
      ]
     },
     "metadata": {},
     "output_type": "display_data"
    }
   ],
   "source": [
    "# calculate the fpr and tpr for all thresholds of the classification\n",
    "from sklearn.ensemble import RandomForestClassifier\n",
    "model = RandomForestClassifier(n_estimators=100)\n",
    "model.fit(x,y)\n",
    "probs = model.predict_proba(x)\n",
    "preds = probs[:,1]\n",
    "fpr, tpr, threshold = metrics.roc_curve(y, preds)\n",
    "roc_auc = metrics.auc(fpr, tpr)\n",
    "\n",
    "plt.title('Receiver Operating Characteristic')\n",
    "plt.plot(fpr, tpr, 'b', label = 'AUC = %0.2f' % roc_auc)\n",
    "plt.legend(loc = 'lower right')\n",
    "plt.plot([0, 1], [0, 1],'r--')\n",
    "plt.xlim([0, 1])\n",
    "plt.ylim([0, 1])\n",
    "plt.ylabel('True Positive Rate')\n",
    "plt.xlabel('False Positive Rate')\n",
    "plt.show()"
   ]
  },
  {
   "cell_type": "code",
   "execution_count": null,
   "metadata": {
    "collapsed": true
   },
   "outputs": [],
   "source": []
  }
 ],
 "metadata": {
  "kernelspec": {
   "display_name": "Python 2",
   "language": "python",
   "name": "python2"
  },
  "language_info": {
   "codemirror_mode": {
    "name": "ipython",
    "version": 2
   },
   "file_extension": ".py",
   "mimetype": "text/x-python",
   "name": "python",
   "nbconvert_exporter": "python",
   "pygments_lexer": "ipython2",
   "version": "2.7.13"
  }
 },
 "nbformat": 4,
 "nbformat_minor": 0
}
