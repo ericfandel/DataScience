{
 "cells": [
  {
   "cell_type": "code",
   "execution_count": 1,
   "metadata": {
    "collapsed": true
   },
   "outputs": [],
   "source": [
    "from numpy import *\n",
    "import numpy\n",
    "import scipy\n",
    "import scipy.stats as stats\n",
    "import matplotlib.pyplot as pyplot\n",
    "import pandas\n",
    "import datetime\n",
    "import seaborn\n",
    "\n",
    "# machine learning\n",
    "from sklearn.linear_model import LogisticRegression\n",
    "from sklearn.svm import SVC, LinearSVC\n",
    "from sklearn.ensemble import RandomForestClassifier\n",
    "from sklearn.ensemble import ExtraTreesClassifier\n",
    "from sklearn.neighbors import KNeighborsClassifier\n",
    "from sklearn.naive_bayes import GaussianNB\n",
    "from sklearn.linear_model import Perceptron\n",
    "from sklearn.linear_model import SGDClassifier\n",
    "from sklearn.tree import DecisionTreeClassifier\n",
    "import sklearn\n",
    "\n",
    "import sys\n",
    "sys.path.append(\"/Users/jcipar/Code/research-analysis/python-utils\")\n",
    "from rtbpythonutils import *\n",
    "%matplotlib inline"
   ]
  },
  {
   "cell_type": "code",
   "execution_count": null,
   "metadata": {
    "collapsed": true
   },
   "outputs": [],
   "source": [
    "feature_columns = ['app_site_id', 'publisher_id', 'fiksu_app_id', 'creative_id', 'lam_status', 'ad_type', 'ad_size', 'ad_network',\n",
    "                   'device_country', 'fiksu_device', 'connection_speed', 'monthly_imps', 'device_osv']\n",
    "negative_ratio = 1.0\n",
    "\n",
    "positives = redshift_compute('''\n",
    "select case when conversions > 0 then 1 else 0 end as label,\n",
    "  %s\n",
    "from research_prod.bid_summary_4wk\n",
    "where fiksu_app_id != '0'\n",
    "  and used_target = 'cost_per_download'\n",
    "  and conversions > 0\n",
    "order by random()\n",
    "limit 100000\n",
    "'''%(', '.join(feature_columns)))\n",
    "\n",
    "negatives = redshift_compute('''\n",
    "select case when conversions > 0 then 1 else 0 end as label,\n",
    "  %s\n",
    "from research_prod.bid_summary_4wk\n",
    "where fiksu_app_id != '0'\n",
    "  and used_target = 'cost_per_download'\n",
    "  and conversions = 0\n",
    "  and impressions > 0\n",
    "order by random()\n",
    "limit %s\n",
    "'''%(', '.join(feature_columns), int(len(positives)*negative_ratio)))\n",
    "all_data = pandas.concat([positives, negatives])\n",
    "\n",
    "def random_split(X,Y, frac=0.8):\n",
    "    msk = numpy.random.rand(len(X)) < frac\n",
    "    return X[msk], Y[msk], X[~msk], Y[~msk]"
   ]
  },
  {
   "cell_type": "code",
   "execution_count": null,
   "metadata": {
    "collapsed": true
   },
   "outputs": [],
   "source": [
    "print(all_data.columns.values)\n",
    "\n",
    "all_data.describe()"
   ]
  },
  {
   "cell_type": "code",
   "execution_count": null,
   "metadata": {
    "collapsed": true
   },
   "outputs": [],
   "source": [
    "columns = ['app_aid']\n",
    "X = pandas.get_dummies(all_data[columns])\n",
    "Y = all_data['label']\n",
    "\n",
    "X_tmp, Y_tmp, X_validation, Y_validation = random_split(X,Y)\n",
    "X_train, Y_train, X_test, Y_test = random_split(X_tmp, Y_tmp)\n"
   ]
  },
  {
   "cell_type": "code",
   "execution_count": null,
   "metadata": {
    "collapsed": true
   },
   "outputs": [],
   "source": [
    "method = \"Logistic Regression\"\n",
    "\n",
    "\n",
    "model = LogisticRegression()\n",
    "model.fit(X_train, Y_train)\n",
    "\n",
    "train_acc = round(model.score(X_train, Y_train) * 100, 2)\n",
    "test_acc = round(model.score(X_test, Y_test) * 100, 2)\n",
    "\n",
    "train_loss = sklearn.metrics.log_loss(Y_train, model.predict_proba(X_train)[:,1])\n",
    "test_loss = sklearn.metrics.log_loss(Y_test, model.predict_proba(X_test)[:,1])\n",
    "\n",
    "mean_loss = sklearn.metrics.log_loss(Y_test, ones(len(Y_test)) * mean(Y_train))\n",
    "\n",
    "\n",
    "print(method)\n",
    "print(\"Training Accuracy\", train_acc)\n",
    "print(\"Test Accuracy\", test_acc)\n",
    "print(\"Training Loss\", train_loss)\n",
    "print(\"Test Loss\", test_loss)\n",
    "print(\"Mean Loss\", mean_loss)"
   ]
  },
  {
   "cell_type": "code",
   "execution_count": null,
   "metadata": {
    "collapsed": true
   },
   "outputs": [],
   "source": [
    "\n",
    "columns = ['app_site_id', 'fiksu_app_id', 'ad_type', 'ad_size', 'lam_status']\n",
    "X = pandas.get_dummies(all_data[columns])\n",
    "Y = all_data['label']\n",
    "\n",
    "X_train, Y_train, X_test, Y_test = random_split(X, Y)"
   ]
  },
  {
   "cell_type": "code",
   "execution_count": null,
   "metadata": {
    "collapsed": true
   },
   "outputs": [],
   "source": [
    "method = \"Logistic Regression\"\n",
    "\n",
    "\n",
    "model = LogisticRegression()\n",
    "model.fit(X_train, Y_train)\n",
    "\n",
    "train_acc = round(model.score(X_train, Y_train) * 100, 2)\n",
    "test_acc = round(model.score(X_test, Y_test) * 100, 2)\n",
    "\n",
    "train_loss = sklearn.metrics.log_loss(Y_train, model.predict_proba(X_train)[:,1])\n",
    "test_loss = sklearn.metrics.log_loss(Y_test, model.predict_proba(X_test)[:,1])\n",
    "\n",
    "mean_loss = sklearn.metrics.log_loss(Y_test, ones(len(Y_test)) * mean(Y_train))\n",
    "\n",
    "\n",
    "print(method)\n",
    "print(\"Training Accuracy\", train_acc)\n",
    "print(\"Test Accuracy\", test_acc)\n",
    "print(\"Training Loss\", train_loss)\n",
    "print(\"Test Loss\", test_loss)\n",
    "print(\"Mean Loss\", mean_loss)"
   ]
  },
  {
   "cell_type": "code",
   "execution_count": null,
   "metadata": {
    "collapsed": true
   },
   "outputs": [],
   "source": [
    "method = \"Decision Tree\"\n",
    "\n",
    "model = DecisionTreeClassifier()\n",
    "model.fit(X_train, Y_train)\n",
    "\n",
    "train_acc = round(model.score(X_train, Y_train) * 100, 2)\n",
    "test_acc = round(model.score(X_test, Y_test) * 100, 2)\n",
    "\n",
    "train_loss = sklearn.metrics.log_loss(Y_train, model.predict_proba(X_train)[:,1])\n",
    "test_loss = sklearn.metrics.log_loss(Y_test, model.predict_proba(X_test)[:,1])\n",
    "\n",
    "mean_loss = sklearn.metrics.log_loss(Y_test, ones(len(Y_test)) * mean(Y_train))\n",
    "\n",
    "\n",
    "print(method)\n",
    "print(\"Training Accuracy\", train_acc)\n",
    "print(\"Test Accuracy\", test_acc)\n",
    "print(\"Training Loss\", train_loss)\n",
    "print(\"Test Loss\", test_loss)\n",
    "print(\"Mean Loss\", mean_loss)"
   ]
  },
  {
   "cell_type": "code",
   "execution_count": null,
   "metadata": {
    "collapsed": true
   },
   "outputs": [],
   "source": [
    "method=\"Random Forest\"\n",
    "\n",
    "model = RandomForestClassifier(n_estimators=100)\n",
    "model.fit(X_train, Y_train)\n",
    "\n",
    "train_acc = round(model.score(X_train, Y_train) * 100, 2)\n",
    "test_acc = round(model.score(X_test, Y_test) * 100, 2)\n",
    "\n",
    "train_loss = sklearn.metrics.log_loss(Y_train, model.predict_proba(X_train)[:,1])\n",
    "test_loss = sklearn.metrics.log_loss(Y_test, model.predict_proba(X_test)[:,1])\n",
    "\n",
    "mean_loss = sklearn.metrics.log_loss(Y_test, ones(len(Y_test)) * mean(Y_train))\n",
    "\n",
    "\n",
    "print(method)\n",
    "print(\"Training Accuracy\", train_acc)\n",
    "print(\"Test Accuracy\", test_acc)\n",
    "print(\"Training Loss\", train_loss)\n",
    "print(\"Test Loss\", test_loss)\n",
    "print(\"Mean Loss\", mean_loss)"
   ]
  }
 ],
 "metadata": {
  "kernelspec": {
   "display_name": "Python 3",
   "language": "python",
   "name": "python3"
  },
  "language_info": {
   "codemirror_mode": {
    "name": "ipython",
    "version": 3
   },
   "file_extension": ".py",
   "mimetype": "text/x-python",
   "name": "python",
   "nbconvert_exporter": "python",
   "pygments_lexer": "ipython3",
   "version": "3.5.1"
  }
 },
 "nbformat": 4,
 "nbformat_minor": 0
}
