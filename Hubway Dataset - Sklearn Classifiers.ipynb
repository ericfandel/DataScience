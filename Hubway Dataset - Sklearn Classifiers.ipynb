{
 "cells": [
  {
   "cell_type": "markdown",
   "metadata": {
    "collapsed": false
   },
   "source": [
    "## Let's build a classifier to predict whether or not rides will be > 30 min."
   ]
  },
  {
   "cell_type": "code",
   "execution_count": 202,
   "metadata": {
    "collapsed": true
   },
   "outputs": [],
   "source": [
    "from numpy import *\n",
    "import numpy as np\n",
    "import scipy\n",
    "import scipy.stats as stats\n",
    "import matplotlib.pyplot as plt\n",
    "import pandas as pd\n",
    "import datetime\n",
    "import seaborn\n",
    "\n",
    "\n",
    "# machine learning\n",
    "from sklearn.linear_model import LogisticRegression\n",
    "from sklearn.svm import SVC, LinearSVC\n",
    "from sklearn.ensemble import RandomForestClassifier\n",
    "from sklearn.ensemble import ExtraTreesClassifier\n",
    "from sklearn.neighbors import KNeighborsClassifier\n",
    "from sklearn.naive_bayes import GaussianNB\n",
    "from sklearn.linear_model import Perceptron\n",
    "from sklearn.linear_model import SGDClassifier\n",
    "from sklearn.tree import DecisionTreeClassifier\n",
    "import sklearn\n",
    "from sklearn import metrics\n",
    "from sklearn.cross_validation import cross_val_score, ShuffleSplit\n",
    "\n",
    "import sys\n",
    "sys.path.append(\"/Users/efandel/Desktop/iPython Tools\")\n",
    "from rtbpythonutils import *\n",
    "%matplotlib inline"
   ]
  },
  {
   "cell_type": "code",
   "execution_count": 245,
   "metadata": {
    "collapsed": false
   },
   "outputs": [],
   "source": [
    "trip_data = pd.read_csv('/Users/efandel/Desktop/hubway_2011_07_through_2013_11/hubway_trips.csv')\n",
    "station_data = pd.read_csv('/Users/efandel/Desktop/hubway_2011_07_through_2013_11/hubway_stations.csv')\n",
    "trip_data['label'] = trip_data.duration\n",
    "trip_data.loc[trip_data['duration']/60 < 30, 'label'] = 0\n",
    "trip_data.loc[trip_data['duration']/60 >= 30, 'label'] = 1\n",
    "trip_data.dropna(inplace=True)"
   ]
  },
  {
   "cell_type": "code",
   "execution_count": 251,
   "metadata": {
    "collapsed": false,
    "scrolled": true
   },
   "outputs": [
    {
     "data": {
      "text/plain": [
       "label\n",
       "0    341899\n",
       "1      8499\n",
       "Name: seq_id, dtype: int64"
      ]
     },
     "execution_count": 251,
     "metadata": {},
     "output_type": "execute_result"
    }
   ],
   "source": [
    "trip_data.groupby(['label'])['seq_id'].count()"
   ]
  },
  {
   "cell_type": "markdown",
   "metadata": {},
   "source": [
    "### ^ Many more negatives than positives... let's balance the classes"
   ]
  },
  {
   "cell_type": "code",
   "execution_count": 253,
   "metadata": {
    "collapsed": false
   },
   "outputs": [],
   "source": [
    "negatives = trip_data[trip_data.label==0]\n",
    "positives = trip_data[trip_data.label==1]\n",
    "\n",
    "negative_fraction = 1\n",
    "\n",
    "negatives = negatives.sample(round(len(positives)*negative_fraction))\n",
    "\n",
    "trip_data_balanced = pd.concat([negatives,positives])"
   ]
  },
  {
   "cell_type": "code",
   "execution_count": 254,
   "metadata": {
    "collapsed": false
   },
   "outputs": [
    {
     "data": {
      "text/plain": [
       "8499"
      ]
     },
     "execution_count": 254,
     "metadata": {},
     "output_type": "execute_result"
    }
   ],
   "source": [
    "len(negatives)"
   ]
  },
  {
   "cell_type": "code",
   "execution_count": 255,
   "metadata": {
    "collapsed": false
   },
   "outputs": [
    {
     "data": {
      "text/plain": [
       "8499"
      ]
     },
     "execution_count": 255,
     "metadata": {},
     "output_type": "execute_result"
    }
   ],
   "source": [
    "len(positives)"
   ]
  },
  {
   "cell_type": "code",
   "execution_count": 249,
   "metadata": {
    "collapsed": true
   },
   "outputs": [],
   "source": [
    "def random_split(X,Y, frac=0.8):\n",
    "    msk = np.random.rand(len(X)) < frac\n",
    "    return X[msk], Y[msk], X[~msk], Y[~msk]"
   ]
  },
  {
   "cell_type": "code",
   "execution_count": 256,
   "metadata": {
    "collapsed": false
   },
   "outputs": [],
   "source": [
    "#columns = ['gender']\n",
    "columns = ['gender','birth_date','strt_statn','end_statn']\n",
    "X = pd.get_dummies(trip_data_balanced[columns])\n",
    "Y = trip_data_balanced['label']\n",
    "\n",
    "X_train, Y_train, X_test, Y_test = random_split(X, Y)"
   ]
  },
  {
   "cell_type": "code",
   "execution_count": 261,
   "metadata": {
    "collapsed": false
   },
   "outputs": [
    {
     "ename": "SyntaxError",
     "evalue": "invalid syntax (<ipython-input-261-cc1590b8263d>, line 16)",
     "output_type": "error",
     "traceback": [
      "\u001b[0;36m  File \u001b[0;32m\"<ipython-input-261-cc1590b8263d>\"\u001b[0;36m, line \u001b[0;32m16\u001b[0m\n\u001b[0;31m    print(method,size=13)\u001b[0m\n\u001b[0m                     ^\u001b[0m\n\u001b[0;31mSyntaxError\u001b[0m\u001b[0;31m:\u001b[0m invalid syntax\n"
     ]
    }
   ],
   "source": [
    "method = \"Logistic Regression\"\n",
    "\n",
    "model = LogisticRegression()\n",
    "model.fit(X_train, Y_train)\n",
    "\n",
    "train_acc = round(model.score(X_train, Y_train) * 100, 2)\n",
    "test_acc = round(model.score(X_test, Y_test) * 100, 2)\n",
    "\n",
    "train_loss = sklearn.metrics.log_loss(Y_train, model.predict_proba(X_train)[:,1])\n",
    "test_loss = sklearn.metrics.log_loss(Y_test, model.predict_proba(X_test)[:,1])\n",
    "\n",
    "mean_loss = sklearn.metrics.log_loss(Y_test, ones(len(Y_test)) * mean(Y_train))\n",
    "\n",
    "confusion_matrix = sklearn.metrics.confusion_matrix(Y_test,model.predict(X_test))\n",
    "\n",
    "print(method)\n",
    "print(\"Training Accuracy\", train_acc)\n",
    "print(\"Test Accuracy\", test_acc)\n",
    "print(\"Training Loss\", train_loss)\n",
    "print(\"Test Loss\", test_loss)\n",
    "print(\"Mean Loss\", mean_loss)\n",
    "scores = cross_val_score(model, X, Y, scoring='roc_auc', cv=5)\n",
    "print(\" \")\n",
    "print('Cross-Validation AUCs {}, Average AUC {}'.format(scores, scores.mean()))\n",
    "print(\" \")\n",
    "print(\"Confusion Matrix\")\n",
    "print(confusion_matrix)\n",
    "\n",
    "probs = model.predict_proba(X_test)\n",
    "preds = probs[:,1]\n",
    "fpr, tpr, threshold = metrics.roc_curve(Y_test, preds)\n",
    "roc_auc = metrics.auc(fpr, tpr)\n",
    "\n",
    "plt.title('Receiver Operating Characteristic')\n",
    "plt.plot(fpr, tpr, 'b', label = 'AUC = %0.2f' % roc_auc)\n",
    "plt.legend(loc = 'lower right')\n",
    "plt.plot([0, 1], [0, 1],'r--')\n",
    "plt.xlim([0, 1])\n",
    "plt.ylim([0, 1])\n",
    "plt.ylabel('True Positive Rate')\n",
    "plt.xlabel('False Positive Rate')\n",
    "plt.show()"
   ]
  },
  {
   "cell_type": "code",
   "execution_count": 258,
   "metadata": {
    "collapsed": false
   },
   "outputs": [
    {
     "name": "stdout",
     "output_type": "stream",
     "text": [
      "Decision Tree\n",
      "('Training Accuracy', 63.88)\n",
      "('Test Accuracy', 60.66)\n",
      "('Training Loss', 0.62168378180721318)\n",
      "('Test Loss', 0.84777934025536816)\n",
      "('Mean Loss', 0.69321868135922893)\n",
      " \n",
      "Cross-Validation AUCs [ 0.57337284  0.5852955   0.59483253  0.63582751  0.51288159], Average AUC 0.580441992008\n",
      " \n",
      "Confusion Matrix\n",
      "[[1150  556]\n",
      " [ 765  887]]\n"
     ]
    },
    {
     "data": {
      "image/png": "[encoded data removed]",
      "text/plain": [
       "<matplotlib.figure.Figure at 0x16f86bc50>"
      ]
     },
     "metadata": {},
     "output_type": "display_data"
    }
   ],
   "source": [
    "method = \"Decision Tree\"\n",
    "\n",
    "model = DecisionTreeClassifier(max_depth = 8)\n",
    "model.fit(X_train, Y_train)\n",
    "\n",
    "train_acc = round(model.score(X_train, Y_train) * 100, 2)\n",
    "test_acc = round(model.score(X_test, Y_test) * 100, 2)\n",
    "\n",
    "train_loss = sklearn.metrics.log_loss(Y_train, model.predict_proba(X_train)[:,1])\n",
    "test_loss = sklearn.metrics.log_loss(Y_test, model.predict_proba(X_test)[:,1])\n",
    "\n",
    "mean_loss = sklearn.metrics.log_loss(Y_test, ones(len(Y_test)) * mean(Y_train))\n",
    "\n",
    "confusion_matrix = sklearn.metrics.confusion_matrix(Y_test,model.predict(X_test))\n",
    "\n",
    "\n",
    "print(method)\n",
    "print(\"Training Accuracy\", train_acc)\n",
    "print(\"Test Accuracy\", test_acc)\n",
    "print(\"Training Loss\", train_loss)\n",
    "print(\"Test Loss\", test_loss)\n",
    "print(\"Mean Loss\", mean_loss)\n",
    "scores = cross_val_score(model, X, Y, scoring='roc_auc', cv=5)\n",
    "print(\" \")\n",
    "print('Cross-Validation AUCs {}, Average AUC {}'.format(scores, scores.mean()))\n",
    "print(\" \")\n",
    "print(\"Confusion Matrix\")\n",
    "print(confusion_matrix)\n",
    "\n",
    "probs = model.predict_proba(X_test)\n",
    "preds = probs[:,1]\n",
    "fpr, tpr, threshold = metrics.roc_curve(Y_test, preds)\n",
    "roc_auc = metrics.auc(fpr, tpr)\n",
    "\n",
    "plt.title('Receiver Operating Characteristic')\n",
    "plt.plot(fpr, tpr, 'b', label = 'AUC = %0.2f' % roc_auc)\n",
    "plt.legend(loc = 'lower right')\n",
    "plt.plot([0, 1], [0, 1],'r--')\n",
    "plt.xlim([0, 1])\n",
    "plt.ylim([0, 1])\n",
    "plt.ylabel('True Positive Rate')\n",
    "plt.xlabel('False Positive Rate')\n",
    "plt.show()"
   ]
  },
  {
   "cell_type": "code",
   "execution_count": 259,
   "metadata": {
    "collapsed": false
   },
   "outputs": [
    {
     "name": "stdout",
     "output_type": "stream",
     "text": [
      "Random Forest\n",
      "('Training Accuracy', 95.04)\n",
      "('Test Accuracy', 64.71)\n",
      "('Training Loss', 0.1942946233556791)\n",
      "('Test Loss', 1.6587082529119608)\n",
      "('Mean Loss', 0.69321868135922893)\n",
      " \n",
      "Cross-Validation AUCs [ 0.67233875  0.67884567  0.70430242  0.7006019   0.62589669], Average AUC 0.676397088086\n",
      " \n",
      "Confusion Matrix\n",
      "[[1188  518]\n",
      " [ 667  985]]\n"
     ]
    },
    {
     "data": {
      "image/png": "[encoded data removed]",
      "text/plain": [
       "<matplotlib.figure.Figure at 0x1d2c71e50>"
      ]
     },
     "metadata": {},
     "output_type": "display_data"
    }
   ],
   "source": [
    "method=\"Random Forest\"\n",
    "\n",
    "model = RandomForestClassifier(n_estimators=10)\n",
    "model.fit(X_train, Y_train)\n",
    "\n",
    "train_acc = round(model.score(X_train, Y_train) * 100, 2)\n",
    "test_acc = round(model.score(X_test, Y_test) * 100, 2)\n",
    "\n",
    "train_loss = sklearn.metrics.log_loss(Y_train, model.predict_proba(X_train)[:,1])\n",
    "test_loss = sklearn.metrics.log_loss(Y_test, model.predict_proba(X_test)[:,1])\n",
    "\n",
    "mean_loss = sklearn.metrics.log_loss(Y_test, ones(len(Y_test)) * mean(Y_train))\n",
    "\n",
    "confusion_matrix = sklearn.metrics.confusion_matrix(Y_test,model.predict(X_test))\n",
    "\n",
    "print(method)\n",
    "print(\"Training Accuracy\", train_acc)\n",
    "print(\"Test Accuracy\", test_acc)\n",
    "print(\"Training Loss\", train_loss)\n",
    "print(\"Test Loss\", test_loss)\n",
    "print(\"Mean Loss\", mean_loss)\n",
    "scores = cross_val_score(model, X, Y, scoring='roc_auc', cv=5)\n",
    "print(\" \")\n",
    "print('Cross-Validation AUCs {}, Average AUC {}'.format(scores, scores.mean()))\n",
    "print(\" \")\n",
    "print(\"Confusion Matrix\")\n",
    "print(confusion_matrix)\n",
    "\n",
    "probs = model.predict_proba(X_test)\n",
    "preds = probs[:,1]\n",
    "fpr, tpr, threshold = metrics.roc_curve(Y_test, preds)\n",
    "roc_auc = metrics.auc(fpr, tpr)\n",
    "\n",
    "plt.title('Receiver Operating Characteristic')\n",
    "plt.plot(fpr, tpr, 'b', label = 'AUC = %0.2f' % roc_auc)\n",
    "plt.legend(loc = 'lower right')\n",
    "plt.plot([0, 1], [0, 1],'r--')\n",
    "plt.xlim([0, 1])\n",
    "plt.ylim([0, 1])\n",
    "plt.ylabel('True Positive Rate')\n",
    "plt.xlabel('False Positive Rate')\n",
    "plt.show()"
   ]
  },
  {
   "cell_type": "code",
   "execution_count": null,
   "metadata": {
    "collapsed": true
   },
   "outputs": [],
   "source": []
  }
 ],
 "metadata": {
  "kernelspec": {
   "display_name": "Python 2",
   "language": "python",
   "name": "python2"
  },
  "language_info": {
   "codemirror_mode": {
    "name": "ipython",
    "version": 2
   },
   "file_extension": ".py",
   "mimetype": "text/x-python",
   "name": "python",
   "nbconvert_exporter": "python",
   "pygments_lexer": "ipython2",
   "version": "2.7.13"
  }
 },
 "nbformat": 4,
 "nbformat_minor": 0
}
