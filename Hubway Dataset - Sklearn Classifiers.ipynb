{
 "cells": [
  {
   "cell_type": "markdown",
   "metadata": {
    "collapsed": false
   },
   "source": [
    "## Let's build a classifier to predict whether or not rides will be > 30 min."
   ]
  },
  {
   "cell_type": "code",
   "execution_count": 12,
   "metadata": {
    "collapsed": true
   },
   "outputs": [],
   "source": [
    "from numpy import *\n",
    "import numpy as np\n",
    "import scipy\n",
    "import scipy.stats as stats\n",
    "import matplotlib.pyplot as plt\n",
    "import pandas as pd\n",
    "import datetime\n",
    "import seaborn\n",
    "\n",
    "\n",
    "# machine learning\n",
    "from sklearn.linear_model import LogisticRegression\n",
    "from sklearn.svm import SVC, LinearSVC\n",
    "from sklearn.ensemble import RandomForestClassifier\n",
    "from sklearn.ensemble import ExtraTreesClassifier\n",
    "from sklearn.neighbors import KNeighborsClassifier\n",
    "from sklearn.naive_bayes import GaussianNB\n",
    "from sklearn.linear_model import Perceptron\n",
    "from sklearn.linear_model import SGDClassifier\n",
    "from sklearn.tree import DecisionTreeClassifier\n",
    "import sklearn\n",
    "from sklearn import metrics\n",
    "from sklearn.cross_validation import cross_val_score, ShuffleSplit\n",
    "from sklearn.decomposition import PCA\n",
    "\n",
    "\n",
    "import sys\n",
    "sys.path.append(\"/Users/efandel/Desktop/iPython Tools\")\n",
    "from rtbpythonutils import *\n",
    "%matplotlib inline"
   ]
  },
  {
   "cell_type": "code",
   "execution_count": 2,
   "metadata": {
    "collapsed": false
   },
   "outputs": [],
   "source": [
    "trip_data = pd.read_csv('/Users/efandel/Desktop/hubway_2011_07_through_2013_11/hubway_trips.csv')\n",
    "station_data = pd.read_csv('/Users/efandel/Desktop/hubway_2011_07_through_2013_11/hubway_stations.csv')\n",
    "trip_data['label'] = trip_data.duration\n",
    "trip_data.loc[trip_data['duration']/60 < 30, 'label'] = 0\n",
    "trip_data.loc[trip_data['duration']/60 >= 30, 'label'] = 1\n",
    "trip_data.dropna(inplace=True)"
   ]
  },
  {
   "cell_type": "code",
   "execution_count": 3,
   "metadata": {
    "collapsed": false,
    "scrolled": true
   },
   "outputs": [
    {
     "data": {
      "text/plain": [
       "label\n",
       "0    341899\n",
       "1      8499\n",
       "Name: seq_id, dtype: int64"
      ]
     },
     "execution_count": 3,
     "metadata": {},
     "output_type": "execute_result"
    }
   ],
   "source": [
    "trip_data.groupby(['label'])['seq_id'].count()"
   ]
  },
  {
   "cell_type": "markdown",
   "metadata": {},
   "source": [
    "### ^ Many more negatives than positives... let's balance the classes"
   ]
  },
  {
   "cell_type": "code",
   "execution_count": 4,
   "metadata": {
    "collapsed": false
   },
   "outputs": [],
   "source": [
    "negatives = trip_data[trip_data.label==0]\n",
    "positives = trip_data[trip_data.label==1]\n",
    "\n",
    "negative_fraction = 1\n",
    "\n",
    "negatives = negatives.sample(round(len(positives)*negative_fraction))\n",
    "\n",
    "trip_data_balanced = pd.concat([negatives,positives])"
   ]
  },
  {
   "cell_type": "code",
   "execution_count": 5,
   "metadata": {
    "collapsed": false
   },
   "outputs": [
    {
     "data": {
      "text/plain": [
       "8499"
      ]
     },
     "execution_count": 5,
     "metadata": {},
     "output_type": "execute_result"
    }
   ],
   "source": [
    "len(negatives)"
   ]
  },
  {
   "cell_type": "code",
   "execution_count": 6,
   "metadata": {
    "collapsed": false
   },
   "outputs": [
    {
     "data": {
      "text/plain": [
       "8499"
      ]
     },
     "execution_count": 6,
     "metadata": {},
     "output_type": "execute_result"
    }
   ],
   "source": [
    "len(positives)"
   ]
  },
  {
   "cell_type": "code",
   "execution_count": 7,
   "metadata": {
    "collapsed": true
   },
   "outputs": [],
   "source": [
    "def random_split(X,Y, frac=0.8):\n",
    "    msk = np.random.rand(len(X)) < frac\n",
    "    return X[msk], Y[msk], X[~msk], Y[~msk]"
   ]
  },
  {
   "cell_type": "code",
   "execution_count": 29,
   "metadata": {
    "collapsed": false
   },
   "outputs": [],
   "source": [
    "#columns = ['gender']\n",
    "columns = ['gender','birth_date','strt_statn','end_statn']\n",
    "X = pd.get_dummies(trip_data_balanced[columns],columns=columns)\n",
    "Y = trip_data_balanced['label']\n",
    "\n",
    "X_train, Y_train, X_test, Y_test = random_split(X, Y)"
   ]
  },
  {
   "cell_type": "code",
   "execution_count": 31,
   "metadata": {
    "collapsed": false
   },
   "outputs": [
    {
     "name": "stdout",
     "output_type": "stream",
     "text": [
      "Logistic Regression\n",
      "('Training Accuracy', 65.36)\n",
      "('Test Accuracy', 64.39)\n",
      "('Training Loss', 0.6222357628156574)\n",
      "('Test Loss', 0.63576898361342427)\n",
      "('Mean Loss', 0.69315699218723037)\n",
      " \n",
      "Cross-Validation AUCs [ 0.61037699  0.63797128  0.66275502  0.70667318  0.5852565 ], Average AUC 0.640606594245\n",
      " \n",
      "Confusion Matrix\n",
      "[[1147  541]\n",
      " [ 654 1014]]\n"
     ]
    },
    {
     "data": {
      "image/png": "[encoded data removed]",
      "text/plain": [
       "<matplotlib.figure.Figure at 0x119c3ed90>"
      ]
     },
     "metadata": {},
     "output_type": "display_data"
    }
   ],
   "source": [
    "method = \"Logistic Regression\"\n",
    "\n",
    "model = LogisticRegression()\n",
    "model.fit(X_train, Y_train)\n",
    "\n",
    "train_acc = round(model.score(X_train, Y_train) * 100, 2)\n",
    "test_acc = round(model.score(X_test, Y_test) * 100, 2)\n",
    "\n",
    "train_loss = sklearn.metrics.log_loss(Y_train, model.predict_proba(X_train)[:,1])\n",
    "test_loss = sklearn.metrics.log_loss(Y_test, model.predict_proba(X_test)[:,1])\n",
    "\n",
    "mean_loss = sklearn.metrics.log_loss(Y_test, ones(len(Y_test)) * mean(Y_train))\n",
    "\n",
    "confusion_matrix = sklearn.metrics.confusion_matrix(Y_test,model.predict(X_test))\n",
    "\n",
    "print(method)\n",
    "print(\"Training Accuracy\", train_acc)\n",
    "print(\"Test Accuracy\", test_acc)\n",
    "print(\"Training Loss\", train_loss)\n",
    "print(\"Test Loss\", test_loss)\n",
    "print(\"Mean Loss\", mean_loss)\n",
    "scores = cross_val_score(model, X, Y, scoring='roc_auc', cv=5)\n",
    "print(\" \")\n",
    "print('Cross-Validation AUCs {}, Average AUC {}'.format(scores, scores.mean()))\n",
    "print(\" \")\n",
    "print(\"Confusion Matrix\")\n",
    "print(confusion_matrix)\n",
    "\n",
    "probs = model.predict_proba(X_test)\n",
    "preds = probs[:,1]\n",
    "fpr, tpr, threshold = metrics.roc_curve(Y_test, preds)\n",
    "roc_auc = metrics.auc(fpr, tpr)\n",
    "\n",
    "plt.title('Receiver Operating Characteristic')\n",
    "plt.plot(fpr, tpr, 'b', label = 'AUC = %0.2f' % roc_auc)\n",
    "plt.legend(loc = 'lower right')\n",
    "plt.plot([0, 1], [0, 1],'r--')\n",
    "plt.xlim([0, 1])\n",
    "plt.ylim([0, 1])\n",
    "plt.ylabel('True Positive Rate')\n",
    "plt.xlabel('False Positive Rate')\n",
    "plt.show()"
   ]
  },
  {
   "cell_type": "code",
   "execution_count": 32,
   "metadata": {
    "collapsed": false
   },
   "outputs": [
    {
     "name": "stdout",
     "output_type": "stream",
     "text": [
      "Decision Tree\n",
      "('Training Accuracy', 59.95)\n",
      "('Test Accuracy', 57.99)\n",
      "('Training Loss', 0.64772718989733202)\n",
      "('Test Loss', 0.82497655457782815)\n",
      "('Mean Loss', 0.69315699218723037)\n",
      " \n",
      "Cross-Validation AUCs [ 0.60237734  0.59706055  0.60083322  0.60965467  0.59057261], Average AUC 0.600099678638\n",
      " \n",
      "Confusion Matrix\n",
      "[[1305  383]\n",
      " [1027  641]]\n"
     ]
    },
    {
     "data": {
      "image/png": "[encoded data removed]",
      "text/plain": [
       "<matplotlib.figure.Figure at 0x120b3e050>"
      ]
     },
     "metadata": {},
     "output_type": "display_data"
    }
   ],
   "source": [
    "method = \"Decision Tree\"\n",
    "\n",
    "model = DecisionTreeClassifier(max_depth = 8)\n",
    "model.fit(X_train, Y_train)\n",
    "\n",
    "train_acc = round(model.score(X_train, Y_train) * 100, 2)\n",
    "test_acc = round(model.score(X_test, Y_test) * 100, 2)\n",
    "\n",
    "train_loss = sklearn.metrics.log_loss(Y_train, model.predict_proba(X_train)[:,1])\n",
    "test_loss = sklearn.metrics.log_loss(Y_test, model.predict_proba(X_test)[:,1])\n",
    "\n",
    "mean_loss = sklearn.metrics.log_loss(Y_test, ones(len(Y_test)) * mean(Y_train))\n",
    "\n",
    "confusion_matrix = sklearn.metrics.confusion_matrix(Y_test,model.predict(X_test))\n",
    "\n",
    "\n",
    "print(method)\n",
    "print(\"Training Accuracy\", train_acc)\n",
    "print(\"Test Accuracy\", test_acc)\n",
    "print(\"Training Loss\", train_loss)\n",
    "print(\"Test Loss\", test_loss)\n",
    "print(\"Mean Loss\", mean_loss)\n",
    "scores = cross_val_score(model, X, Y, scoring='roc_auc', cv=5)\n",
    "print(\" \")\n",
    "print('Cross-Validation AUCs {}, Average AUC {}'.format(scores, scores.mean()))\n",
    "print(\" \")\n",
    "print(\"Confusion Matrix\")\n",
    "print(confusion_matrix)\n",
    "\n",
    "probs = model.predict_proba(X_test)\n",
    "preds = probs[:,1]\n",
    "fpr, tpr, threshold = metrics.roc_curve(Y_test, preds)\n",
    "roc_auc = metrics.auc(fpr, tpr)\n",
    "\n",
    "plt.title('Receiver Operating Characteristic')\n",
    "plt.plot(fpr, tpr, 'b', label = 'AUC = %0.2f' % roc_auc)\n",
    "plt.legend(loc = 'lower right')\n",
    "plt.plot([0, 1], [0, 1],'r--')\n",
    "plt.xlim([0, 1])\n",
    "plt.ylim([0, 1])\n",
    "plt.ylabel('True Positive Rate')\n",
    "plt.xlabel('False Positive Rate')\n",
    "plt.show()"
   ]
  },
  {
   "cell_type": "code",
   "execution_count": 33,
   "metadata": {
    "collapsed": false
   },
   "outputs": [
    {
     "name": "stdout",
     "output_type": "stream",
     "text": [
      "Random Forest\n",
      "('Training Accuracy', 95.53)\n",
      "('Test Accuracy', 68.0)\n",
      "('Training Loss', 0.18878984362013926)\n",
      "('Test Loss', 1.3228203723463781)\n",
      "('Mean Loss', 0.69315699218723037)\n",
      " \n",
      "Cross-Validation AUCs [ 0.68446298  0.71094758  0.72347578  0.73115969  0.68545965], Average AUC 0.70710113338\n",
      " \n",
      "Confusion Matrix\n",
      "[[1248  440]\n",
      " [ 634 1034]]\n"
     ]
    },
    {
     "data": {
      "image/png": "[encoded data removed]",
      "text/plain": [
       "<matplotlib.figure.Figure at 0x119c7f350>"
      ]
     },
     "metadata": {},
     "output_type": "display_data"
    }
   ],
   "source": [
    "method=\"Random Forest\"\n",
    "\n",
    "model = RandomForestClassifier(n_estimators=10)\n",
    "model.fit(X_train, Y_train)\n",
    "\n",
    "train_acc = round(model.score(X_train, Y_train) * 100, 2)\n",
    "test_acc = round(model.score(X_test, Y_test) * 100, 2)\n",
    "\n",
    "train_loss = sklearn.metrics.log_loss(Y_train, model.predict_proba(X_train)[:,1])\n",
    "test_loss = sklearn.metrics.log_loss(Y_test, model.predict_proba(X_test)[:,1])\n",
    "\n",
    "mean_loss = sklearn.metrics.log_loss(Y_test, ones(len(Y_test)) * mean(Y_train))\n",
    "\n",
    "confusion_matrix = sklearn.metrics.confusion_matrix(Y_test,model.predict(X_test))\n",
    "\n",
    "print(method)\n",
    "print(\"Training Accuracy\", train_acc)\n",
    "print(\"Test Accuracy\", test_acc)\n",
    "print(\"Training Loss\", train_loss)\n",
    "print(\"Test Loss\", test_loss)\n",
    "print(\"Mean Loss\", mean_loss)\n",
    "scores = cross_val_score(model, X, Y, scoring='roc_auc', cv=5)\n",
    "print(\" \")\n",
    "print('Cross-Validation AUCs {}, Average AUC {}'.format(scores, scores.mean()))\n",
    "print(\" \")\n",
    "print(\"Confusion Matrix\")\n",
    "print(confusion_matrix)\n",
    "\n",
    "probs = model.predict_proba(X_test)\n",
    "preds = probs[:,1]\n",
    "fpr, tpr, threshold = metrics.roc_curve(Y_test, preds)\n",
    "roc_auc = metrics.auc(fpr, tpr)\n",
    "\n",
    "plt.title('Receiver Operating Characteristic')\n",
    "plt.plot(fpr, tpr, 'b', label = 'AUC = %0.2f' % roc_auc)\n",
    "plt.legend(loc = 'lower right')\n",
    "plt.plot([0, 1], [0, 1],'r--')\n",
    "plt.xlim([0, 1])\n",
    "plt.ylim([0, 1])\n",
    "plt.ylabel('True Positive Rate')\n",
    "plt.xlabel('False Positive Rate')\n",
    "plt.show()"
   ]
  },
  {
   "cell_type": "markdown",
   "metadata": {
    "collapsed": true
   },
   "source": [
    "### Let's try using PCA to reduce the number of variables"
   ]
  },
  {
   "cell_type": "code",
   "execution_count": 34,
   "metadata": {
    "collapsed": false
   },
   "outputs": [
    {
     "data": {
      "text/html": [
       "<div>\n",
       "<table border=\"1\" class=\"dataframe\">\n",
       "  <thead>\n",
       "    <tr style=\"text-align: right;\">\n",
       "      <th></th>\n",
       "      <th>gender_Female</th>\n",
       "      <th>gender_Male</th>\n",
       "      <th>birth_date_1932.0</th>\n",
       "      <th>birth_date_1934.0</th>\n",
       "      <th>birth_date_1938.0</th>\n",
       "      <th>birth_date_1939.0</th>\n",
       "      <th>birth_date_1940.0</th>\n",
       "      <th>birth_date_1941.0</th>\n",
       "      <th>birth_date_1942.0</th>\n",
       "      <th>birth_date_1943.0</th>\n",
       "      <th>...</th>\n",
       "      <th>end_statn_89.0</th>\n",
       "      <th>end_statn_90.0</th>\n",
       "      <th>end_statn_91.0</th>\n",
       "      <th>end_statn_92.0</th>\n",
       "      <th>end_statn_93.0</th>\n",
       "      <th>end_statn_94.0</th>\n",
       "      <th>end_statn_95.0</th>\n",
       "      <th>end_statn_96.0</th>\n",
       "      <th>end_statn_97.0</th>\n",
       "      <th>end_statn_98.0</th>\n",
       "    </tr>\n",
       "  </thead>\n",
       "  <tbody>\n",
       "    <tr>\n",
       "      <th>203589</th>\n",
       "      <td>0</td>\n",
       "      <td>1</td>\n",
       "      <td>0</td>\n",
       "      <td>0</td>\n",
       "      <td>0</td>\n",
       "      <td>0</td>\n",
       "      <td>0</td>\n",
       "      <td>0</td>\n",
       "      <td>0</td>\n",
       "      <td>0</td>\n",
       "      <td>...</td>\n",
       "      <td>0</td>\n",
       "      <td>0</td>\n",
       "      <td>0</td>\n",
       "      <td>0</td>\n",
       "      <td>0</td>\n",
       "      <td>0</td>\n",
       "      <td>0</td>\n",
       "      <td>0</td>\n",
       "      <td>0</td>\n",
       "      <td>0</td>\n",
       "    </tr>\n",
       "    <tr>\n",
       "      <th>363987</th>\n",
       "      <td>0</td>\n",
       "      <td>1</td>\n",
       "      <td>0</td>\n",
       "      <td>0</td>\n",
       "      <td>0</td>\n",
       "      <td>0</td>\n",
       "      <td>0</td>\n",
       "      <td>0</td>\n",
       "      <td>0</td>\n",
       "      <td>0</td>\n",
       "      <td>...</td>\n",
       "      <td>0</td>\n",
       "      <td>0</td>\n",
       "      <td>0</td>\n",
       "      <td>0</td>\n",
       "      <td>0</td>\n",
       "      <td>0</td>\n",
       "      <td>0</td>\n",
       "      <td>0</td>\n",
       "      <td>0</td>\n",
       "      <td>0</td>\n",
       "    </tr>\n",
       "    <tr>\n",
       "      <th>285899</th>\n",
       "      <td>0</td>\n",
       "      <td>1</td>\n",
       "      <td>0</td>\n",
       "      <td>0</td>\n",
       "      <td>0</td>\n",
       "      <td>0</td>\n",
       "      <td>0</td>\n",
       "      <td>0</td>\n",
       "      <td>0</td>\n",
       "      <td>0</td>\n",
       "      <td>...</td>\n",
       "      <td>0</td>\n",
       "      <td>0</td>\n",
       "      <td>0</td>\n",
       "      <td>0</td>\n",
       "      <td>0</td>\n",
       "      <td>0</td>\n",
       "      <td>0</td>\n",
       "      <td>0</td>\n",
       "      <td>0</td>\n",
       "      <td>0</td>\n",
       "    </tr>\n",
       "    <tr>\n",
       "      <th>292773</th>\n",
       "      <td>0</td>\n",
       "      <td>1</td>\n",
       "      <td>0</td>\n",
       "      <td>0</td>\n",
       "      <td>0</td>\n",
       "      <td>0</td>\n",
       "      <td>0</td>\n",
       "      <td>0</td>\n",
       "      <td>0</td>\n",
       "      <td>0</td>\n",
       "      <td>...</td>\n",
       "      <td>0</td>\n",
       "      <td>0</td>\n",
       "      <td>0</td>\n",
       "      <td>0</td>\n",
       "      <td>0</td>\n",
       "      <td>0</td>\n",
       "      <td>0</td>\n",
       "      <td>0</td>\n",
       "      <td>0</td>\n",
       "      <td>0</td>\n",
       "    </tr>\n",
       "    <tr>\n",
       "      <th>364751</th>\n",
       "      <td>0</td>\n",
       "      <td>1</td>\n",
       "      <td>0</td>\n",
       "      <td>0</td>\n",
       "      <td>0</td>\n",
       "      <td>0</td>\n",
       "      <td>0</td>\n",
       "      <td>0</td>\n",
       "      <td>0</td>\n",
       "      <td>0</td>\n",
       "      <td>...</td>\n",
       "      <td>0</td>\n",
       "      <td>0</td>\n",
       "      <td>0</td>\n",
       "      <td>0</td>\n",
       "      <td>0</td>\n",
       "      <td>0</td>\n",
       "      <td>0</td>\n",
       "      <td>0</td>\n",
       "      <td>0</td>\n",
       "      <td>0</td>\n",
       "    </tr>\n",
       "  </tbody>\n",
       "</table>\n",
       "<p>5 rows × 252 columns</p>\n",
       "</div>"
      ],
      "text/plain": [
       "        gender_Female  gender_Male  birth_date_1932.0  birth_date_1934.0  \\\n",
       "203589              0            1                  0                  0   \n",
       "363987              0            1                  0                  0   \n",
       "285899              0            1                  0                  0   \n",
       "292773              0            1                  0                  0   \n",
       "364751              0            1                  0                  0   \n",
       "\n",
       "        birth_date_1938.0  birth_date_1939.0  birth_date_1940.0  \\\n",
       "203589                  0                  0                  0   \n",
       "363987                  0                  0                  0   \n",
       "285899                  0                  0                  0   \n",
       "292773                  0                  0                  0   \n",
       "364751                  0                  0                  0   \n",
       "\n",
       "        birth_date_1941.0  birth_date_1942.0  birth_date_1943.0  \\\n",
       "203589                  0                  0                  0   \n",
       "363987                  0                  0                  0   \n",
       "285899                  0                  0                  0   \n",
       "292773                  0                  0                  0   \n",
       "364751                  0                  0                  0   \n",
       "\n",
       "             ...        end_statn_89.0  end_statn_90.0  end_statn_91.0  \\\n",
       "203589       ...                     0               0               0   \n",
       "363987       ...                     0               0               0   \n",
       "285899       ...                     0               0               0   \n",
       "292773       ...                     0               0               0   \n",
       "364751       ...                     0               0               0   \n",
       "\n",
       "        end_statn_92.0  end_statn_93.0  end_statn_94.0  end_statn_95.0  \\\n",
       "203589               0               0               0               0   \n",
       "363987               0               0               0               0   \n",
       "285899               0               0               0               0   \n",
       "292773               0               0               0               0   \n",
       "364751               0               0               0               0   \n",
       "\n",
       "        end_statn_96.0  end_statn_97.0  end_statn_98.0  \n",
       "203589               0               0               0  \n",
       "363987               0               0               0  \n",
       "285899               0               0               0  \n",
       "292773               0               0               0  \n",
       "364751               0               0               0  \n",
       "\n",
       "[5 rows x 252 columns]"
      ]
     },
     "execution_count": 34,
     "metadata": {},
     "output_type": "execute_result"
    }
   ],
   "source": [
    "X_train.head()"
   ]
  },
  {
   "cell_type": "markdown",
   "metadata": {},
   "source": [
    "### ^ 252 features is a lot. Let's try aggregating that to 10 and see how the random forest compares in terms of AUC score"
   ]
  },
  {
   "cell_type": "code",
   "execution_count": 59,
   "metadata": {
    "collapsed": true
   },
   "outputs": [],
   "source": [
    "pca = PCA(n_components = 10)\n",
    "X_pca = pca.fit_transform(X)\n",
    "X_train, Y_train, X_test, Y_test = random_split(X_pca, Y)"
   ]
  },
  {
   "cell_type": "code",
   "execution_count": 60,
   "metadata": {
    "collapsed": false
   },
   "outputs": [
    {
     "name": "stdout",
     "output_type": "stream",
     "text": [
      "Random Forest\n",
      "('Training Accuracy', 95.69)\n",
      "('Test Accuracy', 64.24)\n",
      "('Training Loss', 0.1990099252371304)\n",
      "('Test Loss', 1.205032593964529)\n",
      "('Mean Loss', 0.6931971385944582)\n",
      " \n",
      "Cross-Validation AUCs [ 0.68312958  0.70546471  0.7307846   0.74160709  0.69489947], Average AUC 0.711177090885\n",
      " \n",
      "Confusion Matrix\n",
      "[[1165  520]\n",
      " [ 669  971]]\n"
     ]
    },
    {
     "data": {
      "image/png": "[encoded data removed]",
      "text/plain": [
       "<matplotlib.figure.Figure at 0x11a8da2d0>"
      ]
     },
     "metadata": {},
     "output_type": "display_data"
    }
   ],
   "source": [
    "method=\"Random Forest\"\n",
    "\n",
    "model = RandomForestClassifier(n_estimators=10)\n",
    "model.fit(X_train, Y_train)\n",
    "\n",
    "train_acc = round(model.score(X_train, Y_train) * 100, 2)\n",
    "test_acc = round(model.score(X_test, Y_test) * 100, 2)\n",
    "\n",
    "train_loss = sklearn.metrics.log_loss(Y_train, model.predict_proba(X_train)[:,1])\n",
    "test_loss = sklearn.metrics.log_loss(Y_test, model.predict_proba(X_test)[:,1])\n",
    "\n",
    "mean_loss = sklearn.metrics.log_loss(Y_test, ones(len(Y_test)) * mean(Y_train))\n",
    "\n",
    "confusion_matrix = sklearn.metrics.confusion_matrix(Y_test,model.predict(X_test))\n",
    "\n",
    "print(method)\n",
    "print(\"Training Accuracy\", train_acc)\n",
    "print(\"Test Accuracy\", test_acc)\n",
    "print(\"Training Loss\", train_loss)\n",
    "print(\"Test Loss\", test_loss)\n",
    "print(\"Mean Loss\", mean_loss)\n",
    "scores = cross_val_score(model, X, Y, scoring='roc_auc', cv=5)\n",
    "print(\" \")\n",
    "print('Cross-Validation AUCs {}, Average AUC {}'.format(scores, scores.mean()))\n",
    "print(\" \")\n",
    "print(\"Confusion Matrix\")\n",
    "print(confusion_matrix)\n",
    "\n",
    "probs = model.predict_proba(X_test)\n",
    "preds = probs[:,1]\n",
    "fpr, tpr, threshold = metrics.roc_curve(Y_test, preds)\n",
    "roc_auc = metrics.auc(fpr, tpr)\n",
    "\n",
    "plt.title('Receiver Operating Characteristic')\n",
    "plt.plot(fpr, tpr, 'b', label = 'AUC = %0.2f' % roc_auc)\n",
    "plt.legend(loc = 'lower right')\n",
    "plt.plot([0, 1], [0, 1],'r--')\n",
    "plt.xlim([0, 1])\n",
    "plt.ylim([0, 1])\n",
    "plt.ylabel('True Positive Rate')\n",
    "plt.xlabel('False Positive Rate')\n",
    "plt.show()"
   ]
  },
  {
   "cell_type": "markdown",
   "metadata": {},
   "source": [
    "### Going from 252 to 10 features reduced AUC by 3 percentage points."
   ]
  },
  {
   "cell_type": "markdown",
   "metadata": {},
   "source": [
    "### % Variance explained by each principal component:"
   ]
  },
  {
   "cell_type": "code",
   "execution_count": 76,
   "metadata": {
    "collapsed": false
   },
   "outputs": [
    {
     "data": {
      "text/plain": [
       "<matplotlib.text.Text at 0x11bfebf90>"
      ]
     },
     "execution_count": 76,
     "metadata": {},
     "output_type": "execute_result"
    },
    {
     "data": {
      "image/png": "[encoded data removed]",
      "text/plain": [
       "<matplotlib.figure.Figure at 0x11bfab1d0>"
      ]
     },
     "metadata": {},
     "output_type": "display_data"
    }
   ],
   "source": [
    "plt.rc('xtick',labelsize=20)\n",
    "plt.rc('ytick',labelsize=20)\n",
    "\n",
    "fig = plt.figure(figsize=(20,10))\n",
    "ax = fig.add_subplot(1,1,1)\n",
    "ax.bar([x for x in range(len(pca.explained_variance_ratio_))],pca.explained_variance_ratio_)\n",
    "ax.set_ylabel('percent variance explained',size=20)\n"
   ]
  },
  {
   "cell_type": "code",
   "execution_count": 55,
   "metadata": {
    "collapsed": false
   },
   "outputs": [
    {
     "data": {
      "text/plain": [
       "array([ 0.12689375,  0.01573876,  0.0154049 ,  0.01467063,  0.01452644,\n",
       "        0.01442003,  0.01357972,  0.01329188,  0.01287691,  0.0121649 ])"
      ]
     },
     "execution_count": 55,
     "metadata": {},
     "output_type": "execute_result"
    }
   ],
   "source": [
    "pca.explained_variance_ratio_"
   ]
  },
  {
   "cell_type": "code",
   "execution_count": null,
   "metadata": {
    "collapsed": true
   },
   "outputs": [],
   "source": []
  }
 ],
 "metadata": {
  "kernelspec": {
   "display_name": "Python 2",
   "language": "python",
   "name": "python2"
  },
  "language_info": {
   "codemirror_mode": {
    "name": "ipython",
    "version": 2
   },
   "file_extension": ".py",
   "mimetype": "text/x-python",
   "name": "python",
   "nbconvert_exporter": "python",
   "pygments_lexer": "ipython2",
   "version": "2.7.13"
  }
 },
 "nbformat": 4,
 "nbformat_minor": 0
}
